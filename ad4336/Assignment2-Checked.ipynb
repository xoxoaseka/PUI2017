{
 "cells": [
  {
   "cell_type": "markdown",
   "metadata": {},
   "source": [
    "### Objective: Manipulate (spatio-temporal) data through SQL\n",
    "\n",
    "- Citibike ridership data: https://serv.cusp.nyu.edu/~hvo/files/citibike.csv\n",
    "- Interactive SQL queries using Carto: https://carto.com"
   ]
  },
  {
   "cell_type": "code",
   "execution_count": 1,
   "metadata": {},
   "outputs": [
    {
     "ename": "SyntaxError",
     "evalue": "invalid syntax (<ipython-input-1-508c71a774f1>, line 25)",
     "output_type": "error",
     "traceback": [
      "\u001b[0;36m  File \u001b[0;32m\"<ipython-input-1-508c71a774f1>\"\u001b[0;36m, line \u001b[0;32m25\u001b[0m\n\u001b[0;31m    except urllib2.HTTPError, e:\u001b[0m\n\u001b[0m                            ^\u001b[0m\n\u001b[0;31mSyntaxError\u001b[0m\u001b[0;31m:\u001b[0m invalid syntax\n"
     ]
    }
   ],
   "source": [
    "# function by @fedhere to import query results\n",
    "\n",
    "SQL_SOURCE = 'https://xoxoaseka.carto.com/api/v2/sql?q='\n",
    "\n",
    "import urllib2\n",
    "import urllib\n",
    "import StringIO\n",
    "import ast\n",
    "import pandas as pd\n",
    "\n",
    "def queryCartoDB(query, format='CSV', source=SQL_SOURCE):\n",
    "    '''queries carto datasets from a given carto account\n",
    "    Arguments: \n",
    "    query - string: a valid sql query string\n",
    "    format - outlut format  OPTIONAL (default CSV)\n",
    "    source - a valid sql api endpoint OPTIONAL (default carto fb55 account)\n",
    "    Returns:\n",
    "    the return of the sql query AS A STRING\n",
    "    NOTES:\n",
    "    designed for the carto API, tested only with CSV return format'''\n",
    "    \n",
    "    data = urllib.urlencode({'format': format, 'q': query})\n",
    "    try:\n",
    "        response = urllib2.urlopen(source, data)\n",
    "    except urllib2.HTTPError, e:\n",
    "        raise ValueError('\\n'.join(ast.literal_eval(e.readline())['error']))\n",
    "    except Exception:\n",
    "        raise\n",
    "    return pd.read_csv(StringIO.StringIO(response.read()), sep=',')"
   ]
  },
  {
   "cell_type": "code",
   "execution_count": null,
   "metadata": {},
   "outputs": [],
   "source": [
    "test = '''\n",
    "SELECT *\n",
    "FROM citibike\n",
    "'''"
   ]
  },
  {
   "cell_type": "code",
   "execution_count": null,
   "metadata": {
    "scrolled": false
   },
   "outputs": [],
   "source": [
    "#pd.read_csv(StringIO.StringIO(queryCartoDB(test)), sep=',')\n",
    "queryCartoDB(test)"
   ]
  },
  {
   "cell_type": "markdown",
   "metadata": {},
   "source": [
    "### Task 1 — Familiarize with SQL Clauses\n",
    "\n",
    "1) Sort data by start_station_id, tripduration (only checking trips with duration <= 3 hours)\n",
    "\n",
    "2) Only show the top/last 10 records (aka head and tail in SQL) List all unique start_station_id values\n",
    "\n",
    "3) Aggregation functions:\n",
    "- Count the number of trips (aka wc -l in SQL) \n",
    "- Find the average/min/max trip duration"
   ]
  },
  {
   "cell_type": "code",
   "execution_count": null,
   "metadata": {},
   "outputs": [],
   "source": [
    "task1 = '''\n",
    "SELECT DISTINCT start_station_id, \n",
    "       COUNT(start_station_id) as trip_counts,\n",
    "       AVG(tripduration) as average_trip_duration,\n",
    "       MIN(tripduration) as min_trip_duration,\n",
    "       MAX(tripduration) as max_trip_duration\n",
    "FROM citibike\n",
    "WHERE tripduration <= 10800\n",
    "GROUP BY start_station_id\n",
    "ORDER BY start_station_id ASC\n",
    "LIMIT 10\n",
    "'''\n",
    "#show top 10 records\n",
    "queryCartoDB(task1)"
   ]
  },
  {
   "cell_type": "code",
   "execution_count": null,
   "metadata": {},
   "outputs": [],
   "source": [
    "task1_1 = '''\n",
    "SELECT DISTINCT start_station_id, \n",
    "       COUNT(start_station_id) as trip_counts,\n",
    "       AVG(tripduration) as average_trip_duration,\n",
    "       MIN(tripduration) as min_trip_duration,\n",
    "       MAX(tripduration) as max_trip_duration\n",
    "FROM citibike\n",
    "WHERE tripduration <= 10800\n",
    "GROUP BY start_station_id\n",
    "ORDER BY start_station_id DESC\n",
    "LIMIT 10\n",
    "'''\n",
    "# showing last 10 records\n",
    "queryCartoDB(task1_1)"
   ]
  },
  {
   "cell_type": "markdown",
   "metadata": {},
   "source": [
    "### Task 2 — Working with date/time\n",
    "\n",
    "1) Selecting trips started on Feb-02-2015 only \n",
    "\n",
    "2) Selecting trips started on the weekends (What are average trip duration during weekends?) \n",
    "\n",
    "3) Can we do the same for weekday?"
   ]
  },
  {
   "cell_type": "code",
   "execution_count": null,
   "metadata": {},
   "outputs": [],
   "source": [
    "task2_1 = '''\n",
    "SELECT *\n",
    "FROM citibike\n",
    "WHERE starttime >= '2015-02-02 00:00'\n",
    "AND starttime < '2015-02-03 00:00'\n",
    "'''\n",
    "# showing trips started on Feb-02-2015 only\n",
    "queryCartoDB(task2_1)"
   ]
  },
  {
   "cell_type": "code",
   "execution_count": null,
   "metadata": {},
   "outputs": [],
   "source": [
    "# showing trips started on the weekends\n",
    "task2_2_1 = '''\n",
    "SELECT *\n",
    "FROM citibike\n",
    "WHERE extract(DOW from starttime) IN (0,6)\n",
    "'''\n",
    "queryCartoDB(task2_2_1)"
   ]
  },
  {
   "cell_type": "code",
   "execution_count": null,
   "metadata": {},
   "outputs": [],
   "source": [
    "# showing average trip duration during weekends\n",
    "task2_2_2 = '''\n",
    "SELECT AVG(tripduration)\n",
    "FROM citibike\n",
    "WHERE extract(DOW from starttime) IN (0,6) \n",
    "'''\n",
    "queryCartoDB(task2_2_2)"
   ]
  },
  {
   "cell_type": "code",
   "execution_count": null,
   "metadata": {},
   "outputs": [],
   "source": [
    "# showing trips started on the weekdays\n",
    "task2_3_1 = '''\n",
    "SELECT *\n",
    "FROM citibike\n",
    "WHERE extract(DOW from starttime) IN (1, 2, 3, 4, 5)\n",
    "'''\n",
    "queryCartoDB(task2_3_1)"
   ]
  },
  {
   "cell_type": "code",
   "execution_count": null,
   "metadata": {},
   "outputs": [],
   "source": [
    "# showing average trip duration during weekdays\n",
    "task2_3_2 = '''\n",
    "SELECT AVG(tripduration)\n",
    "FROM citibike\n",
    "WHERE extract(DOW from starttime) IN (1, 2, 3, 4, 5)\n",
    "'''\n",
    "queryCartoDB(task2_3_2)"
   ]
  },
  {
   "cell_type": "markdown",
   "metadata": {},
   "source": [
    "### Task 3 — Working with Space\n",
    "1) Showing the list of start station locations (using GROUP BY)\n",
    "\n",
    "2) Showing the number of trips started per station (only for stations within 500m of Time Square! The coordinates of Time Square is (40.7577,-73.9857))"
   ]
  },
  {
   "cell_type": "code",
   "execution_count": null,
   "metadata": {},
   "outputs": [],
   "source": [
    "task3_1 = '''\n",
    "SELECT start_station_latitude, start_station_longitude \n",
    "FROM citibike\n",
    "GROUP BY start_station_latitude, start_station_longitude\n",
    "'''\n",
    "# showing start station locations \n",
    "queryCartoDB(task3_1)"
   ]
  },
  {
   "cell_type": "code",
   "execution_count": null,
   "metadata": {},
   "outputs": [],
   "source": [
    "task3_2 = '''\n",
    "SELECT start_station_name, \n",
    "       CDB_TransformToWebmercator(CDB_LatLng(start_station_latitude, start_station_longitude)) as the_geom_webmercator,\n",
    "       MIN(cartodb_id) as cartodb_id,\n",
    "       COUNT(tripduration) as number_of_trips\n",
    "FROM citibike\n",
    "WHERE ST_DWithin(CDB_LatLng(start_station_latitude, start_station_longitude)::geography, \n",
    "                 CDB_LatLng(40.7577,-73.9857)::geography, 500)\n",
    "GROUP BY start_station_latitude, start_station_longitude, start_station_name\n",
    "ORDER BY number_of_trips\n",
    "'''\n",
    "# showing the number of trips started per station located within 500m of Time Square\n",
    "queryCartoDB(task3_2)"
   ]
  },
  {
   "cell_type": "markdown",
   "metadata": {},
   "source": [
    "### Task 4 — Putting it all together\n",
    "1) Find the station that had the longest average trip duration during weekends and within 500m of TimeSquare!\n",
    "\n",
    "2) Extra: create lines for trips started from stations within 500m of Times Squares and lasted less than 2 hours. The number of trips per each pair of stations are output as attributes of these lines."
   ]
  },
  {
   "cell_type": "code",
   "execution_count": null,
   "metadata": {},
   "outputs": [],
   "source": [
    "task4_1 = '''\n",
    "SELECT start_station_name,\n",
    "       CDB_TransformToWebmercator(CDB_LatLng(start_station_latitude, start_station_longitude)) as the_geom_webmercator,\n",
    "       MIN(cartodb_id) as cartodb_id,\n",
    "       AVG(tripduration) as average_trip_duration\n",
    "FROM citibike\n",
    "WHERE ST_DWithin(CDB_LatLng(start_station_latitude, start_station_longitude)::geography, \n",
    "                 CDB_LatLng(40.7577,-73.9857)::geography, 500)\n",
    "      AND extract(DOW from starttime) IN (0,6)\n",
    "GROUP BY start_station_latitude, start_station_longitude, start_station_name\n",
    "ORDER BY average_trip_duration DESC\n",
    "'''\n",
    "# showing top 10 stations that had the longest average trip duration during weekends and within 500m of TimeSquare\n",
    "queryCartoDB(task4_1)"
   ]
  },
  {
   "cell_type": "code",
   "execution_count": null,
   "metadata": {},
   "outputs": [],
   "source": [
    "task4_2 = '''\n",
    "SELECT start_station_name, end_station_name,\n",
    "       ST_Makeline(CDB_TransformToWebmercator(CDB_LatLng(start_station_latitude, start_station_longitude)),\n",
    "                   CDB_TransformToWebmercator(CDB_LatLng(end_station_latitude, end_station_longitude))) as the_geom_webmercator,\n",
    "       MIN(cartodb_id) as cartodb_id,\n",
    "       COUNT(start_station_id) as trip_counts\n",
    "FROM citibike\n",
    "WHERE ST_DWithin(CDB_LatLng(start_station_latitude, start_station_longitude)::geography, \n",
    "                 CDB_LatLng(40.7577,-73.9857)::geography, 500)\n",
    "      AND tripduration < 7200\n",
    "GROUP BY start_station_latitude, start_station_longitude, start_station_name, end_station_latitude, end_station_longitude, end_station_name\n",
    "ORDER BY trip_counts DESC\n",
    "'''\n",
    "# showing lines for trips started from stations within 500m of Times Squares and lasted less than 2 hours. \n",
    "# the number of trips per each pair of stations are output as attributes of these lines.\n",
    "queryCartoDB(task4_2)"
   ]
  },
  {
   "cell_type": "markdown",
   "metadata": {},
   "source": [
    "## ASH - Score 100. Extra Credit 0"
   ]
  },
  {
   "cell_type": "code",
   "execution_count": null,
   "metadata": {},
   "outputs": [],
   "source": []
  }
 ],
 "metadata": {
  "kernelspec": {
   "display_name": "PUI2016_Python3",
   "language": "python",
   "name": "pui2016_python3"
  },
  "language_info": {
   "codemirror_mode": {
    "name": "ipython",
    "version": 3
   },
   "file_extension": ".py",
   "mimetype": "text/x-python",
   "name": "python",
   "nbconvert_exporter": "python",
   "pygments_lexer": "ipython3",
   "version": "3.5.4"
  }
 },
 "nbformat": 4,
 "nbformat_minor": 2
}
